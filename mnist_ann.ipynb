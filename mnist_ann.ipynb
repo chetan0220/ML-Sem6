{
  "nbformat": 4,
  "nbformat_minor": 0,
  "metadata": {
    "colab": {
      "provenance": []
    },
    "kernelspec": {
      "name": "python3",
      "display_name": "Python 3"
    },
    "language_info": {
      "name": "python"
    }
  },
  "cells": [
    {
      "cell_type": "code",
      "execution_count": 167,
      "metadata": {
        "id": "rcI3wTyZPCPQ"
      },
      "outputs": [],
      "source": [
        "import numpy as np\n",
        "import pandas as pd\n",
        "import matplotlib.pyplot as plt\n",
        "import tensorflow as tf\n",
        "import keras\n",
        "from tensorflow.keras.models import Sequential\n",
        "from tensorflow.keras.layers import Dense, Flatten, Dropout\n",
        "from tensorflow.keras.regularizers import l1\n",
        "from tensorflow.keras.callbacks import EarlyStopping\n",
        "from sklearn.metrics import accuracy_score, confusion_matrix, ConfusionMatrixDisplay, classification_report"
      ]
    },
    {
      "cell_type": "code",
      "source": [
        "mnist = np.load('/content/drive/MyDrive/ML/ML Dataset/mnist.npz')"
      ],
      "metadata": {
        "id": "_u22XXLnPV-X"
      },
      "execution_count": 168,
      "outputs": []
    },
    {
      "cell_type": "code",
      "source": [
        "X_train = mnist['x_train']\n",
        "y_train = mnist['y_train']\n",
        "X_test = mnist['x_test']\n",
        "y_test = mnist['y_test']"
      ],
      "metadata": {
        "id": "p5AHPT4yPl4j"
      },
      "execution_count": 169,
      "outputs": []
    },
    {
      "cell_type": "code",
      "source": [
        "X_train"
      ],
      "metadata": {
        "colab": {
          "base_uri": "https://localhost:8080/"
        },
        "id": "NYNOGhmnQCzG",
        "outputId": "5e4718e8-c816-4619-f55e-d5a04733eacd"
      },
      "execution_count": 170,
      "outputs": [
        {
          "output_type": "execute_result",
          "data": {
            "text/plain": [
              "array([[[0, 0, 0, ..., 0, 0, 0],\n",
              "        [0, 0, 0, ..., 0, 0, 0],\n",
              "        [0, 0, 0, ..., 0, 0, 0],\n",
              "        ...,\n",
              "        [0, 0, 0, ..., 0, 0, 0],\n",
              "        [0, 0, 0, ..., 0, 0, 0],\n",
              "        [0, 0, 0, ..., 0, 0, 0]],\n",
              "\n",
              "       [[0, 0, 0, ..., 0, 0, 0],\n",
              "        [0, 0, 0, ..., 0, 0, 0],\n",
              "        [0, 0, 0, ..., 0, 0, 0],\n",
              "        ...,\n",
              "        [0, 0, 0, ..., 0, 0, 0],\n",
              "        [0, 0, 0, ..., 0, 0, 0],\n",
              "        [0, 0, 0, ..., 0, 0, 0]],\n",
              "\n",
              "       [[0, 0, 0, ..., 0, 0, 0],\n",
              "        [0, 0, 0, ..., 0, 0, 0],\n",
              "        [0, 0, 0, ..., 0, 0, 0],\n",
              "        ...,\n",
              "        [0, 0, 0, ..., 0, 0, 0],\n",
              "        [0, 0, 0, ..., 0, 0, 0],\n",
              "        [0, 0, 0, ..., 0, 0, 0]],\n",
              "\n",
              "       ...,\n",
              "\n",
              "       [[0, 0, 0, ..., 0, 0, 0],\n",
              "        [0, 0, 0, ..., 0, 0, 0],\n",
              "        [0, 0, 0, ..., 0, 0, 0],\n",
              "        ...,\n",
              "        [0, 0, 0, ..., 0, 0, 0],\n",
              "        [0, 0, 0, ..., 0, 0, 0],\n",
              "        [0, 0, 0, ..., 0, 0, 0]],\n",
              "\n",
              "       [[0, 0, 0, ..., 0, 0, 0],\n",
              "        [0, 0, 0, ..., 0, 0, 0],\n",
              "        [0, 0, 0, ..., 0, 0, 0],\n",
              "        ...,\n",
              "        [0, 0, 0, ..., 0, 0, 0],\n",
              "        [0, 0, 0, ..., 0, 0, 0],\n",
              "        [0, 0, 0, ..., 0, 0, 0]],\n",
              "\n",
              "       [[0, 0, 0, ..., 0, 0, 0],\n",
              "        [0, 0, 0, ..., 0, 0, 0],\n",
              "        [0, 0, 0, ..., 0, 0, 0],\n",
              "        ...,\n",
              "        [0, 0, 0, ..., 0, 0, 0],\n",
              "        [0, 0, 0, ..., 0, 0, 0],\n",
              "        [0, 0, 0, ..., 0, 0, 0]]], dtype=uint8)"
            ]
          },
          "metadata": {},
          "execution_count": 170
        }
      ]
    },
    {
      "cell_type": "code",
      "source": [
        "y_train"
      ],
      "metadata": {
        "colab": {
          "base_uri": "https://localhost:8080/"
        },
        "id": "EgcvbATOQEuR",
        "outputId": "d12a40cb-2fd7-47d4-dc59-4fc880d3c9ff"
      },
      "execution_count": 171,
      "outputs": [
        {
          "output_type": "execute_result",
          "data": {
            "text/plain": [
              "array([5, 0, 4, ..., 5, 6, 8], dtype=uint8)"
            ]
          },
          "metadata": {},
          "execution_count": 171
        }
      ]
    },
    {
      "cell_type": "code",
      "source": [
        "plt.imshow(X_train[10], cmap='gray')\n",
        "plt.axis('off')\n",
        "plt.title(y_train[10])"
      ],
      "metadata": {
        "colab": {
          "base_uri": "https://localhost:8080/",
          "height": 445
        },
        "id": "6BW66zVOQGEf",
        "outputId": "ce37d608-3adf-47e6-ea5c-72f5f0649476"
      },
      "execution_count": 172,
      "outputs": [
        {
          "output_type": "execute_result",
          "data": {
            "text/plain": [
              "Text(0.5, 1.0, '3')"
            ]
          },
          "metadata": {},
          "execution_count": 172
        },
        {
          "output_type": "display_data",
          "data": {
            "text/plain": [
              "<Figure size 640x480 with 1 Axes>"
            ],
            "image/png": "[encoded data removed]"
          },
          "metadata": {}
        }
      ]
    },
    {
      "cell_type": "code",
      "source": [
        "model = Sequential([\n",
        "    Flatten(input_shape = (28, 28)),\n",
        "    Dense(units = 64, activation = 'relu', kernel_regularizer = l1(0.01)),\n",
        "    Dropout(0.5),\n",
        "    Dense(units = 10, activation = 'softmax')\n",
        "])"
      ],
      "metadata": {
        "id": "A7l3khP3Qz6j"
      },
      "execution_count": 173,
      "outputs": []
    },
    {
      "cell_type": "code",
      "source": [
        "model.summary()"
      ],
      "metadata": {
        "colab": {
          "base_uri": "https://localhost:8080/"
        },
        "id": "8VRxxaR7SgWC",
        "outputId": "077ec117-02a1-4a79-9593-58fc4a2f14c8"
      },
      "execution_count": 174,
      "outputs": [
        {
          "output_type": "stream",
          "name": "stdout",
          "text": [
            "Model: \"sequential_13\"\n",
            "_________________________________________________________________\n",
            " Layer (type)                Output Shape              Param #   \n",
            "=================================================================\n",
            " flatten_9 (Flatten)         (None, 784)               0         \n",
            "                                                                 \n",
            " dense_27 (Dense)            (None, 64)                50240     \n",
            "                                                                 \n",
            " dropout_1 (Dropout)         (None, 64)                0         \n",
            "                                                                 \n",
            " dense_28 (Dense)            (None, 10)                650       \n",
            "                                                                 \n",
            "=================================================================\n",
            "Total params: 50890 (198.79 KB)\n",
            "Trainable params: 50890 (198.79 KB)\n",
            "Non-trainable params: 0 (0.00 Byte)\n",
            "_________________________________________________________________\n"
          ]
        }
      ]
    },
    {
      "cell_type": "code",
      "source": [
        "early_stopping = EarlyStopping(\n",
        "    monitor = 'val_loss',\n",
        "    patience = 3,\n",
        "    restore_best_weights = True\n",
        ")"
      ],
      "metadata": {
        "id": "NplFvySecOVS"
      },
      "execution_count": 175,
      "outputs": []
    },
    {
      "cell_type": "code",
      "source": [
        "model.compile(optimizer=\"adam\", loss=\"sparse_categorical_crossentropy\", metrics=['accuracy'])"
      ],
      "metadata": {
        "id": "GaEQBs4lTI2i"
      },
      "execution_count": 176,
      "outputs": []
    },
    {
      "cell_type": "code",
      "source": [
        "history = model.fit(X_train,\n",
        "        y_train,\n",
        "        validation_split = 0.2,\n",
        "        callbacks = [early_stopping],\n",
        "        epochs = 30\n",
        "        )"
      ],
      "metadata": {
        "colab": {
          "base_uri": "https://localhost:8080/"
        },
        "id": "rfmyq7hDTOsA",
        "outputId": "f2b99019-3796-4313-98e8-1eb4746d6d88"
      },
      "execution_count": 177,
      "outputs": [
        {
          "output_type": "stream",
          "name": "stdout",
          "text": [
            "Epoch 1/30\n",
            "1500/1500 [==============================] - 16s 10ms/step - loss: 11.1806 - accuracy: 0.3045 - val_loss: 5.0819 - val_accuracy: 0.5258\n",
            "Epoch 2/30\n",
            "1500/1500 [==============================] - 14s 10ms/step - loss: 3.8101 - accuracy: 0.4060 - val_loss: 2.8561 - val_accuracy: 0.5813\n",
            "Epoch 3/30\n",
            "1500/1500 [==============================] - 6s 4ms/step - loss: 3.1053 - accuracy: 0.4470 - val_loss: 2.5424 - val_accuracy: 0.6852\n",
            "Epoch 4/30\n",
            "1500/1500 [==============================] - 6s 4ms/step - loss: 3.0674 - accuracy: 0.4672 - val_loss: 2.4018 - val_accuracy: 0.7197\n",
            "Epoch 5/30\n",
            "1500/1500 [==============================] - 5s 3ms/step - loss: 2.7602 - accuracy: 0.5034 - val_loss: 2.1466 - val_accuracy: 0.7929\n",
            "Epoch 6/30\n",
            "1500/1500 [==============================] - 5s 4ms/step - loss: 2.7173 - accuracy: 0.5176 - val_loss: 2.2392 - val_accuracy: 0.7988\n",
            "Epoch 7/30\n",
            "1500/1500 [==============================] - 6s 4ms/step - loss: 2.5111 - accuracy: 0.5393 - val_loss: 2.2007 - val_accuracy: 0.6674\n",
            "Epoch 8/30\n",
            "1500/1500 [==============================] - 5s 3ms/step - loss: 2.4441 - accuracy: 0.5468 - val_loss: 1.7400 - val_accuracy: 0.8277\n",
            "Epoch 9/30\n",
            "1500/1500 [==============================] - 7s 4ms/step - loss: 2.3999 - accuracy: 0.5680 - val_loss: 1.8343 - val_accuracy: 0.7836\n",
            "Epoch 10/30\n",
            "1500/1500 [==============================] - 5s 3ms/step - loss: 2.2165 - accuracy: 0.5972 - val_loss: 1.6315 - val_accuracy: 0.8281\n",
            "Epoch 11/30\n",
            "1500/1500 [==============================] - 5s 3ms/step - loss: 2.1000 - accuracy: 0.6144 - val_loss: 1.5628 - val_accuracy: 0.8387\n",
            "Epoch 12/30\n",
            "1500/1500 [==============================] - 6s 4ms/step - loss: 1.9844 - accuracy: 0.6362 - val_loss: 1.3773 - val_accuracy: 0.8496\n",
            "Epoch 13/30\n",
            "1500/1500 [==============================] - 5s 3ms/step - loss: 1.9150 - accuracy: 0.6466 - val_loss: 1.2547 - val_accuracy: 0.8769\n",
            "Epoch 14/30\n",
            "1500/1500 [==============================] - 5s 4ms/step - loss: 1.9051 - accuracy: 0.6492 - val_loss: 1.2211 - val_accuracy: 0.8615\n",
            "Epoch 15/30\n",
            "1500/1500 [==============================] - 8s 6ms/step - loss: 1.8303 - accuracy: 0.6531 - val_loss: 1.3334 - val_accuracy: 0.8477\n",
            "Epoch 16/30\n",
            "1500/1500 [==============================] - 5s 3ms/step - loss: 1.7937 - accuracy: 0.6641 - val_loss: 1.3225 - val_accuracy: 0.8486\n",
            "Epoch 17/30\n",
            "1500/1500 [==============================] - 6s 4ms/step - loss: 1.7892 - accuracy: 0.6620 - val_loss: 1.2341 - val_accuracy: 0.8674\n"
          ]
        }
      ]
    },
    {
      "cell_type": "code",
      "source": [
        "plt.plot(history.history['accuracy'], label = 'Training Accuracy')\n",
        "plt.plot(history.history['val_accuracy'], label = 'Validation Accuracy')\n",
        "plt.legend(loc = 'lower right')\n",
        "plt.xlabel('Epochs')\n",
        "plt.ylabel('Accuracy')\n",
        "plt.title('Accuracy vs Epochs')"
      ],
      "metadata": {
        "colab": {
          "base_uri": "https://localhost:8080/",
          "height": 489
        },
        "id": "bc1geLYaZG8b",
        "outputId": "b4e286fa-ce1c-4032-dc2f-c64ad346425d"
      },
      "execution_count": 178,
      "outputs": [
        {
          "output_type": "execute_result",
          "data": {
            "text/plain": [
              "Text(0.5, 1.0, 'Accuracy vs Epochs')"
            ]
          },
          "metadata": {},
          "execution_count": 178
        },
        {
          "output_type": "display_data",
          "data": {
            "text/plain": [
              "<Figure size 640x480 with 1 Axes>"
            ],
            "image/png": "[encoded data removed]"
          },
          "metadata": {}
        }
      ]
    },
    {
      "cell_type": "code",
      "source": [
        "plt.plot(history.history['loss'], label = 'Training Loss')\n",
        "plt.plot(history.history['val_loss'], label = 'Validation Loss')\n",
        "plt.legend(loc = 'lower right')\n",
        "plt.xlabel('Epochs')\n",
        "plt.ylabel('Loss')\n",
        "plt.title('Loss vs Epochs')"
      ],
      "metadata": {
        "colab": {
          "base_uri": "https://localhost:8080/",
          "height": 489
        },
        "id": "xvRbnFrOW7JN",
        "outputId": "c0b1dbb0-5596-4ec7-9f42-3dad3b34ea28"
      },
      "execution_count": 179,
      "outputs": [
        {
          "output_type": "execute_result",
          "data": {
            "text/plain": [
              "Text(0.5, 1.0, 'Loss vs Epochs')"
            ]
          },
          "metadata": {},
          "execution_count": 179
        },
        {
          "output_type": "display_data",
          "data": {
            "text/plain": [
              "<Figure size 640x480 with 1 Axes>"
            ],
            "image/png": "[encoded data removed]"
          },
          "metadata": {}
        }
      ]
    },
    {
      "cell_type": "code",
      "source": [
        "y_pred = model.predict(X_test)\n",
        "y_pred"
      ],
      "metadata": {
        "colab": {
          "base_uri": "https://localhost:8080/"
        },
        "id": "w2Ehd0pHXVTj",
        "outputId": "fd44cb0c-a796-4886-e1bb-4b2b3fe6c81a"
      },
      "execution_count": 180,
      "outputs": [
        {
          "output_type": "stream",
          "name": "stdout",
          "text": [
            "313/313 [==============================] - 1s 2ms/step\n"
          ]
        },
        {
          "output_type": "execute_result",
          "data": {
            "text/plain": [
              "array([[2.3887076e-10, 9.1518321e-12, 6.1778213e-05, ..., 9.9993473e-01,\n",
              "        2.5003191e-10, 2.0401096e-06],\n",
              "       [3.9623171e-04, 1.9058440e-02, 8.8565177e-01, ..., 6.1207344e-03,\n",
              "        4.1359719e-02, 1.8096496e-05],\n",
              "       [2.4004687e-11, 9.9113613e-01, 3.7791920e-03, ..., 4.3853782e-03,\n",
              "        4.1991862e-04, 3.1869149e-05],\n",
              "       ...,\n",
              "       [6.4168084e-09, 6.9890876e-07, 3.3482260e-04, ..., 4.1486949e-02,\n",
              "        3.2895210e-04, 2.6780125e-01],\n",
              "       [8.6733764e-03, 5.5600949e-02, 3.9942540e-02, ..., 1.6667487e-02,\n",
              "        4.5589471e-01, 8.1853718e-02],\n",
              "       [1.6121418e-05, 3.0027625e-09, 3.9561909e-02, ..., 5.3831724e-07,\n",
              "        1.3829522e-05, 1.1699637e-05]], dtype=float32)"
            ]
          },
          "metadata": {},
          "execution_count": 180
        }
      ]
    },
    {
      "cell_type": "code",
      "source": [
        "y_pred = y_pred.argmax(axis = 1)\n",
        "y_pred"
      ],
      "metadata": {
        "colab": {
          "base_uri": "https://localhost:8080/"
        },
        "id": "ZmAUNeH1X3Ib",
        "outputId": "f983f2e0-40bb-4093-83bb-c4c320306a25"
      },
      "execution_count": 181,
      "outputs": [
        {
          "output_type": "execute_result",
          "data": {
            "text/plain": [
              "array([7, 2, 1, ..., 4, 8, 6])"
            ]
          },
          "metadata": {},
          "execution_count": 181
        }
      ]
    },
    {
      "cell_type": "code",
      "source": [
        "accuracy_score(y_test, y_pred)"
      ],
      "metadata": {
        "colab": {
          "base_uri": "https://localhost:8080/"
        },
        "id": "f_QqS8NuXd_Y",
        "outputId": "2a904183-9852-4fc8-acee-660c76c8a7ce"
      },
      "execution_count": 182,
      "outputs": [
        {
          "output_type": "execute_result",
          "data": {
            "text/plain": [
              "0.8561"
            ]
          },
          "metadata": {},
          "execution_count": 182
        }
      ]
    },
    {
      "cell_type": "code",
      "source": [
        "confusion_matrix(y_test, y_pred)"
      ],
      "metadata": {
        "colab": {
          "base_uri": "https://localhost:8080/"
        },
        "id": "LqY1hOzdXicW",
        "outputId": "edda2e76-3873-40a9-ad9b-ef72120b77c1"
      },
      "execution_count": 183,
      "outputs": [
        {
          "output_type": "execute_result",
          "data": {
            "text/plain": [
              "array([[ 951,    0,    3,    0,    1,    0,    1,   17,    7,    0],\n",
              "       [   0, 1106,    4,    3,    0,    1,    9,    3,    9,    0],\n",
              "       [   9,    6,  910,   41,    8,    0,   13,   32,   13,    0],\n",
              "       [   4,    3,   46,  883,    0,   23,    1,   22,   23,    5],\n",
              "       [   2,    0,    8,    0,  873,    2,   18,    6,    8,   65],\n",
              "       [  51,   11,    5,  178,    5,  448,   25,   14,  147,    8],\n",
              "       [  24,    3,   11,    0,   26,    3,  870,    1,   20,    0],\n",
              "       [   2,   18,   32,    3,    6,    0,    0,  953,    3,   11],\n",
              "       [  31,   17,   18,    9,    3,   12,   38,   10,  816,   20],\n",
              "       [   8,    5,    3,    9,  116,   11,    1,   98,    7,  751]])"
            ]
          },
          "metadata": {},
          "execution_count": 183
        }
      ]
    },
    {
      "cell_type": "code",
      "source": [
        "print(classification_report(y_test, y_pred))"
      ],
      "metadata": {
        "colab": {
          "base_uri": "https://localhost:8080/"
        },
        "id": "iBKO8FPda2tV",
        "outputId": "875dc274-2696-458f-847e-f5d442a617f1"
      },
      "execution_count": 184,
      "outputs": [
        {
          "output_type": "stream",
          "name": "stdout",
          "text": [
            "              precision    recall  f1-score   support\n",
            "\n",
            "           0       0.88      0.97      0.92       980\n",
            "           1       0.95      0.97      0.96      1135\n",
            "           2       0.88      0.88      0.88      1032\n",
            "           3       0.78      0.87      0.83      1010\n",
            "           4       0.84      0.89      0.86       982\n",
            "           5       0.90      0.50      0.64       892\n",
            "           6       0.89      0.91      0.90       958\n",
            "           7       0.82      0.93      0.87      1028\n",
            "           8       0.77      0.84      0.81       974\n",
            "           9       0.87      0.74      0.80      1009\n",
            "\n",
            "    accuracy                           0.86     10000\n",
            "   macro avg       0.86      0.85      0.85     10000\n",
            "weighted avg       0.86      0.86      0.85     10000\n",
            "\n"
          ]
        }
      ]
    },
    {
      "cell_type": "code",
      "source": [],
      "metadata": {
        "id": "wDlTYI1fbV27"
      },
      "execution_count": 184,
      "outputs": []
    }
  ]
}